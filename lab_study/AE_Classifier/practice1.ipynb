{
 "cells": [
  {
   "cell_type": "code",
   "execution_count": 1,
   "id": "7145e395",
   "metadata": {},
   "outputs": [],
   "source": [
    "import torch\n",
    "import torchvision\n",
    "from torchvision import transforms, datasets\n",
    "import torch.nn.functional as F\n",
    "from torch import nn, optim\n",
    "\n",
    "import matplotlib.pyplot as plt\n",
    "from mpl_toolkits.mplot3d import Axes3D\n",
    "from matplotlib import cm\n",
    "\n",
    "import pandas as pd\n",
    "import numpy as np\n",
    "\n",
    "import random"
   ]
  },
  {
   "cell_type": "code",
   "execution_count": 2,
   "id": "49f20bad",
   "metadata": {},
   "outputs": [
    {
     "name": "stdout",
     "output_type": "stream",
     "text": [
      "Using Device: cuda\n"
     ]
    }
   ],
   "source": [
    "EPOCH = 20\n",
    "BATCH_SIZE = 64\n",
    "USE_CUDA = torch.cuda.is_available()\n",
    "DEVICE = torch.device(\"cuda\" if USE_CUDA else \"cpu\")\n",
    "print(\"Using Device:\", DEVICE)\n",
    "\n",
    "trainset = datasets.MNIST(\n",
    "    root = './.data/',\n",
    "    train = True,\n",
    "    download = True,\n",
    "    transform = transforms.ToTensor()\n",
    ")\n",
    "\n",
    "train_loader = torch.utils.data.DataLoader(\n",
    "    dataset = trainset,\n",
    "    batch_size = BATCH_SIZE,\n",
    "    shuffle = True,\n",
    "    num_workers = 2\n",
    ")\n",
    "\n",
    "test_loader = datasets.MNIST(\n",
    "    root = './.data/',\n",
    "    train = False,\n",
    "    download = True,\n",
    "    transform = transforms.ToTensor()\n",
    ")"
   ]
  },
  {
   "cell_type": "code",
   "execution_count": 3,
   "id": "cc01f8c0",
   "metadata": {},
   "outputs": [],
   "source": [
    "class AE(nn.Module):\n",
    "    def __init__(self):\n",
    "        super(AE, self).__init__()\n",
    "        \n",
    "        self.encoder = nn.Sequential(\n",
    "            nn.Linear(28*28, 128),\n",
    "            nn.ReLU(),\n",
    "            nn.Linear(128, 64),\n",
    "            nn.ReLU(),\n",
    "            nn.Linear(64, 16),\n",
    "            nn.ReLU(),\n",
    "            nn.Linear(16, 4)\n",
    "        )\n",
    "        \n",
    "        self.classifier = nn.Sequential(\n",
    "            nn.Linear(4, 64),\n",
    "            nn.ReLU(),\n",
    "            nn.Linear(64, 256),\n",
    "            nn.ReLU(),\n",
    "            nn.Linear(256, 64),\n",
    "            nn.ReLU(),\n",
    "            nn.Linear(64, 10),\n",
    "            nn.Sigmoid(),\n",
    "        )\n",
    "        \n",
    "        self.decoder = nn.Sequential(\n",
    "            nn.Linear(4, 16),\n",
    "            nn.ReLU(),\n",
    "            nn.Linear(16, 64),\n",
    "            nn.ReLU(),\n",
    "            nn.Linear(64, 128),\n",
    "            nn.ReLU(),\n",
    "            nn.Linear(128, 28*28),\n",
    "            nn.Sigmoid(),\n",
    "        )\n",
    "        \n",
    "    def forward(self, x):\n",
    "        encoded = self.encoder(x)\n",
    "        classified = self.classifier(encoded)\n",
    "        decoded = self.decoder(encoded)\n",
    "        \n",
    "        return encoded, classified, decoded"
   ]
  },
  {
   "cell_type": "code",
   "execution_count": 4,
   "id": "43af37b8",
   "metadata": {},
   "outputs": [],
   "source": [
    "autoencoder = AE().to(DEVICE)\n",
    "ae_optimizer = torch.optim.Adam(autoencoder.parameters(), lr=0.001) # weight_decay=0.0000001\n",
    "ae_criterion = nn.MSELoss()\n",
    "classify_optimizer = torch.optim.Adam(autoencoder.parameters(), lr=0.01)\n",
    "classify_criterion = nn.CrossEntropyLoss()\n",
    "ae_loss_history= []\n",
    "ae_val_loss_history = []\n",
    "view_data = trainset.data[10:20].view(-1, 28*28)\n",
    "view_data = view_data.type(torch.FloatTensor)/255"
   ]
  },
  {
   "cell_type": "code",
   "execution_count": 5,
   "id": "3584ea6c",
   "metadata": {},
   "outputs": [],
   "source": [
    "loss_last_history=[]"
   ]
  },
  {
   "cell_type": "code",
   "execution_count": 6,
   "id": "2aa2de25",
   "metadata": {},
   "outputs": [],
   "source": [
    "def ae_train(autoencoder, train_loader):\n",
    "    autoencoder.train()\n",
    "    for step, (x, label) in enumerate(train_loader):\n",
    "        x = x.view(-1, 28*28).to(DEVICE)\n",
    "        y = x.view(-1, 28*28).to(DEVICE)\n",
    "        label = label.to(DEVICE)\n",
    "        \n",
    "        encoded, classified, decoded = autoencoder(x)\n",
    "        \n",
    "        loss = ae_criterion(decoded, y)\n",
    "        if step == 1:\n",
    "            loss_history.append(loss.data)\n",
    "        \n",
    "        ae_optimizer.zero_grad()\n",
    "        loss.backward()\n",
    "        ae_optimizer.step()\n",
    "        \n",
    "def classifier_train(autoencoder, train_loader):\n",
    "    autoencoder.train()\n",
    "    for step, (x, label) in enumerate(train_loader):\n",
    "        x = x.view(-1, 28*28).to(DEVICE)\n",
    "        y = x.view(-1, 28*28).to(DEVICE)\n",
    "        label = label.to(DEVICE)\n",
    "        \n",
    "        encoded, classified, decoded = autoencoder(x)\n",
    "        \n",
    "        loss = a"
   ]
  },
  {
   "cell_type": "code",
   "execution_count": 7,
   "id": "b0344f25",
   "metadata": {},
   "outputs": [
    {
     "ename": "NameError",
     "evalue": "name 'loss_history' is not defined",
     "output_type": "error",
     "traceback": [
      "\u001b[1;31m---------------------------------------------------------------------------\u001b[0m",
      "\u001b[1;31mNameError\u001b[0m                                 Traceback (most recent call last)",
      "Cell \u001b[1;32mIn[7], line 2\u001b[0m\n\u001b[0;32m      1\u001b[0m \u001b[38;5;28;01mfor\u001b[39;00m epoch \u001b[38;5;129;01min\u001b[39;00m \u001b[38;5;28mrange\u001b[39m(\u001b[38;5;241m1\u001b[39m, EPOCH\u001b[38;5;241m+\u001b[39m\u001b[38;5;241m1\u001b[39m):\n\u001b[1;32m----> 2\u001b[0m     \u001b[43mae_train\u001b[49m\u001b[43m(\u001b[49m\u001b[43mautoencoder\u001b[49m\u001b[43m,\u001b[49m\u001b[43m \u001b[49m\u001b[43mtrain_loader\u001b[49m\u001b[43m)\u001b[49m\n\u001b[0;32m      3\u001b[0m     \u001b[38;5;66;03m# ae_train 완료\u001b[39;00m\n\u001b[0;32m      5\u001b[0m     test_x \u001b[38;5;241m=\u001b[39m view_data\u001b[38;5;241m.\u001b[39mto(DEVICE)\n",
      "Cell \u001b[1;32mIn[6], line 12\u001b[0m, in \u001b[0;36mae_train\u001b[1;34m(autoencoder, train_loader)\u001b[0m\n\u001b[0;32m     10\u001b[0m loss \u001b[38;5;241m=\u001b[39m ae_criterion(decoded, y)\n\u001b[0;32m     11\u001b[0m \u001b[38;5;28;01mif\u001b[39;00m step \u001b[38;5;241m==\u001b[39m \u001b[38;5;241m1\u001b[39m:\n\u001b[1;32m---> 12\u001b[0m     \u001b[43mloss_history\u001b[49m\u001b[38;5;241m.\u001b[39mappend(loss\u001b[38;5;241m.\u001b[39mdata)\n\u001b[0;32m     14\u001b[0m ae_optimizer\u001b[38;5;241m.\u001b[39mzero_grad()\n\u001b[0;32m     15\u001b[0m loss\u001b[38;5;241m.\u001b[39mbackward()\n",
      "\u001b[1;31mNameError\u001b[0m: name 'loss_history' is not defined"
     ]
    }
   ],
   "source": [
    "for epoch in range(1, EPOCH+1):\n",
    "    ae_train(autoencoder, train_loader)\n",
    "    # ae_train 완료\n",
    "    \n",
    "    test_x = view_data.to(DEVICE)\n",
    "    \n",
    "    _, classified_data, decoded_data = autoencoder(test_x)\n",
    "    \n",
    "    f, a = plt.subplots(2, 10, figsize=(10, 2))\n",
    "    print(\"[Epoch {}]\".format(epoch))\n",
    "    for i in range(10):\n",
    "        img = np.reshape(view_data.data.numpy()[i],(28,28))\n",
    "        a[0][i].imshow(img, cmap='gray')\n",
    "        a[0][i].set_xticks(()); a[0][i].set_yticks(())\n",
    "        \n",
    "    for i in range(10):\n",
    "        img = np.reshape(decoded_data.to(\"cpu\").data.numpy()[i], (28, 28))\n",
    "        a[1][i].imshow(img, cmap='gray')\n",
    "        a[1][i].set_xticks(()); a[1][i].set_yticks(())\n",
    "        \n",
    "    plt.show()"
   ]
  },
  {
   "cell_type": "code",
   "execution_count": null,
   "id": "9c6850d2",
   "metadata": {},
   "outputs": [],
   "source": [
    "with torch.no_grad():\n",
    "    X_test = test_loader.test_data.view(-1, 28*28).float().to(DEVICE)\n",
    "    Y_test = test_loader.test_labels.to(DEVICE)\n",
    "    \n",
    "    _, prediction, _ = autoencoder(X_test)\n",
    "    correct_prediction = torch.argmax(prediction, 1) == Y_test\n",
    "    accuracy = correct_prediction.float().mean()\n",
    "    print('Accuracy:', accuracy.item())\n",
    "    \n",
    "    r = random.randint(0, len(test_loader) - 1)\n",
    "    X_single_data = test_loader.test_data[r:r+1].view(-1, 28*28).float().to(DEVICE)\n",
    "    Y_single_data = test_loader.test_labels[r:r+1].to(DEVICE)\n",
    "    \n",
    "    print(\"Label: \", Y_single_data.item())\n",
    "    _, single_prediction, _ = autoencoder(X_single_data)\n",
    "    print('Prediction: ', torch.argmax(single_prediction, 1).item())\n",
    "    \n",
    "    plt.imshow(test_loader.test_data[r:r+1].view(28, 28), cmap='Greys', interpolation='nearest')\n",
    "    plt.show()"
   ]
  },
  {
   "cell_type": "code",
   "execution_count": null,
   "id": "c572897d",
   "metadata": {},
   "outputs": [],
   "source": []
  },
  {
   "cell_type": "code",
   "execution_count": null,
   "id": "9a2be8da",
   "metadata": {},
   "outputs": [],
   "source": []
  },
  {
   "cell_type": "code",
   "execution_count": null,
   "id": "d4bdce69",
   "metadata": {},
   "outputs": [],
   "source": []
  }
 ],
 "metadata": {
  "kernelspec": {
   "display_name": "CAU_DSLAB",
   "language": "python",
   "name": "cau_dslab"
  },
  "language_info": {
   "codemirror_mode": {
    "name": "ipython",
    "version": 3
   },
   "file_extension": ".py",
   "mimetype": "text/x-python",
   "name": "python",
   "nbconvert_exporter": "python",
   "pygments_lexer": "ipython3",
   "version": "3.9.15"
  }
 },
 "nbformat": 4,
 "nbformat_minor": 5
}
