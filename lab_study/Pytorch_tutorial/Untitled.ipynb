{
 "cells": [
  {
   "cell_type": "code",
   "execution_count": 1,
   "id": "5af8681c",
   "metadata": {},
   "outputs": [],
   "source": [
    "%matplotlib inline\n",
    "import torch, torchvision\n",
    "from torch.autograd import Variable\n",
    "\n",
    "x = torch.ones(5)\n",
    "y = torch.zeros(3)\n",
    "w = torch.randn(5, 3, requires_grad=True)\n",
    "b = torch.randn(3, requires_grad=True)\n",
    "z = torch.matmul(x, w)+b\n",
    "loss = torch.nn.functional.binary_cross_entropy_with_logits(z, y)"
   ]
  },
  {
   "cell_type": "code",
   "execution_count": 4,
   "id": "86d24aad",
   "metadata": {},
   "outputs": [
    {
     "name": "stdout",
     "output_type": "stream",
     "text": [
      "tensor([1., 1., 1., 1., 1.])\n",
      "tensor([0., 0., 0.])\n",
      "<class 'torch.Tensor'>\n",
      "tensor([[ 0.7763, -1.3243,  0.1120],\n",
      "        [-0.5512,  0.1474,  0.8871],\n",
      "        [-1.6610, -0.6395,  0.6719],\n",
      "        [-0.8930, -0.8959, -0.7859],\n",
      "        [-2.0869, -0.5260,  0.6045]], requires_grad=True)\n",
      "<class 'torch.Tensor'>\n",
      "tensor([-0.5457, -0.1320,  0.6375], requires_grad=True)\n",
      "<class 'torch.Tensor'>\n",
      "tensor([-4.9615, -3.3705,  2.1271], grad_fn=<AddBackward0>)\n",
      "<class 'torch.Tensor'>\n",
      "tensor(0.7602, grad_fn=<BinaryCrossEntropyWithLogitsBackward0>)\n",
      "<class 'torch.Tensor'>\n"
     ]
    }
   ],
   "source": [
    "print(x)\n",
    "print(y)\n",
    "print(type(y))\n",
    "print(w)\n",
    "print(type(w))\n",
    "print(b)\n",
    "print(type(b))\n",
    "print(z)\n",
    "print(type(z))\n",
    "print(loss)\n",
    "print(type(loss))"
   ]
  },
  {
   "cell_type": "code",
   "execution_count": 5,
   "id": "cf130ce8",
   "metadata": {},
   "outputs": [
    {
     "name": "stdout",
     "output_type": "stream",
     "text": [
      "<BinaryCrossEntropyWithLogitsBackward0 object at 0x000001E1288AE580>\n"
     ]
    }
   ],
   "source": [
    "print(loss.grad_fn)"
   ]
  },
  {
   "cell_type": "code",
   "execution_count": 7,
   "id": "7fbf2448",
   "metadata": {},
   "outputs": [
    {
     "name": "stdout",
     "output_type": "stream",
     "text": [
      "tensor([[1., 1.],\n",
      "        [1., 1.]], requires_grad=True)\n",
      "<class 'torch.Tensor'>\n"
     ]
    }
   ],
   "source": [
    "x = Variable(torch.ones(2, 2), requires_grad=True)\n",
    "print(x)\n",
    "print(type(x))"
   ]
  },
  {
   "cell_type": "code",
   "execution_count": 8,
   "id": "d89d29ec",
   "metadata": {},
   "outputs": [
    {
     "name": "stdout",
     "output_type": "stream",
     "text": [
      "tensor([[3., 3.],\n",
      "        [3., 3.]], grad_fn=<AddBackward0>)\n"
     ]
    }
   ],
   "source": [
    "y = x + 2\n",
    "print(y)"
   ]
  },
  {
   "cell_type": "code",
   "execution_count": 9,
   "id": "7f40100d",
   "metadata": {},
   "outputs": [
    {
     "name": "stdout",
     "output_type": "stream",
     "text": [
      "<AddBackward0 object at 0x000001E1288AE970>\n"
     ]
    }
   ],
   "source": [
    "print(y.grad_fn)"
   ]
  },
  {
   "cell_type": "code",
   "execution_count": 10,
   "id": "a6576dcf",
   "metadata": {},
   "outputs": [
    {
     "name": "stdout",
     "output_type": "stream",
     "text": [
      "tensor([[27., 27.],\n",
      "        [27., 27.]], grad_fn=<MulBackward0>)\n",
      "---------------\n",
      "tensor(27., grad_fn=<MeanBackward0>)\n"
     ]
    }
   ],
   "source": [
    "z = y * y * 3\n",
    "out = z.mean()\n",
    "\n",
    "print(z)\n",
    "print(\"---\"*5)\n",
    "print(out)"
   ]
  },
  {
   "cell_type": "code",
   "execution_count": 11,
   "id": "e8eee726",
   "metadata": {},
   "outputs": [
    {
     "name": "stdout",
     "output_type": "stream",
     "text": [
      "<AddBackward0 object at 0x000001E1288AE520>\n"
     ]
    }
   ],
   "source": [
    "print(y.grad_fn)"
   ]
  },
  {
   "cell_type": "code",
   "execution_count": 12,
   "id": "0d260a89",
   "metadata": {},
   "outputs": [],
   "source": [
    "out.backward()"
   ]
  },
  {
   "cell_type": "code",
   "execution_count": 13,
   "id": "d6e9eefe",
   "metadata": {},
   "outputs": [
    {
     "name": "stdout",
     "output_type": "stream",
     "text": [
      "tensor([[4.5000, 4.5000],\n",
      "        [4.5000, 4.5000]])\n"
     ]
    }
   ],
   "source": [
    "print(x.grad) # out을 통해서 구하는 것\n",
    "# out = 1/4 * 3(xi + 2)^2"
   ]
  },
  {
   "cell_type": "code",
   "execution_count": 37,
   "id": "0e03126e",
   "metadata": {},
   "outputs": [
    {
     "name": "stdout",
     "output_type": "stream",
     "text": [
      "tensor([-0.5351,  1.2386,  0.2366])\n",
      "tensor([-0.5351,  1.2386,  0.2366], requires_grad=True)\n",
      "tensor(2.7396)\n",
      "tensor([-2.1406,  4.9542,  0.9464], grad_fn=<MulBackward0>)\n",
      "tensor([-4.2812,  9.9084,  1.8927], grad_fn=<MulBackward0>)\n",
      "tensor([-8.5623, 19.8168,  3.7854], grad_fn=<MulBackward0>)\n",
      "tensor([-17.1246,  39.6337,   7.5709], grad_fn=<MulBackward0>)\n",
      "tensor([-34.2492,  79.2673,  15.1417], grad_fn=<MulBackward0>)\n",
      "tensor([-68.4984, 158.5347,  30.2834], grad_fn=<MulBackward0>)\n",
      "tensor([-136.9968,  317.0693,   60.5669], grad_fn=<MulBackward0>)\n",
      "tensor([-273.9936,  634.1386,  121.1337], grad_fn=<MulBackward0>)\n",
      "tensor([-547.9872, 1268.2772,  242.2674], grad_fn=<MulBackward0>)\n",
      "tensor([-547.9872, 1268.2772,  242.2674], grad_fn=<MulBackward0>)\n"
     ]
    }
   ],
   "source": [
    "x = torch.randn(3)\n",
    "print(x)\n",
    "x = Variable(x, requires_grad = True)\n",
    "print(x)\n",
    "\n",
    "y = x * 2\n",
    "print(y.data.norm()) # 제곱들 합의 루트, 즉 \n",
    "while y.data.norm() < 1000:\n",
    "    y = y * 2\n",
    "    print(y)\n",
    "print(y)"
   ]
  },
  {
   "cell_type": "code",
   "execution_count": 39,
   "id": "a07e13ef",
   "metadata": {},
   "outputs": [
    {
     "name": "stdout",
     "output_type": "stream",
     "text": [
      "tensor([1.0240e+02, 1.0240e+03, 1.0240e-01])\n"
     ]
    }
   ],
   "source": [
    "gradients = torch.FloatTensor([0.1, 1.0, 0.0001])\n",
    "y.backward(gradients)\n",
    "\n",
    "print(x.grad)"
   ]
  },
  {
   "cell_type": "code",
   "execution_count": 19,
   "id": "a374c038",
   "metadata": {},
   "outputs": [
    {
     "data": {
      "text/plain": [
       "tensor([ -906.3586, -1432.2189,    73.1209], grad_fn=<MulBackward0>)"
      ]
     },
     "execution_count": 19,
     "metadata": {},
     "output_type": "execute_result"
    }
   ],
   "source": [
    "y"
   ]
  },
  {
   "cell_type": "code",
   "execution_count": null,
   "id": "33a1d413",
   "metadata": {},
   "outputs": [],
   "source": []
  }
 ],
 "metadata": {
  "kernelspec": {
   "display_name": "Python 3 (ipykernel)",
   "language": "python",
   "name": "python3"
  },
  "language_info": {
   "codemirror_mode": {
    "name": "ipython",
    "version": 3
   },
   "file_extension": ".py",
   "mimetype": "text/x-python",
   "name": "python",
   "nbconvert_exporter": "python",
   "pygments_lexer": "ipython3",
   "version": "3.9.13"
  }
 },
 "nbformat": 4,
 "nbformat_minor": 5
}
