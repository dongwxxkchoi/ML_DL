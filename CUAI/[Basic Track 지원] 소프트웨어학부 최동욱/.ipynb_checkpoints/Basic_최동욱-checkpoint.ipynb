{
 "cells": [
  {
   "cell_type": "markdown",
   "id": "0f5c8b9b",
   "metadata": {},
   "source": [
    "1번 문제"
   ]
  },
  {
   "cell_type": "code",
   "execution_count": null,
   "id": "8064b516",
   "metadata": {},
   "outputs": [],
   "source": [
    "# cast str to int\n",
    "N = int(input())\n",
    "X = int(input())\n",
    "\n",
    "# split input strings, and cast strs to int\n",
    "num_list = map(int, input().split())\n",
    "\n",
    "# print num in num_list if num is bigger than X\n",
    "for num in num_list:\n",
    "    if num >= X:\n",
    "        print(num, end=' ')"
   ]
  },
  {
   "cell_type": "markdown",
   "id": "be67c258",
   "metadata": {},
   "source": [
    "2번 문제"
   ]
  },
  {
   "cell_type": "code",
   "execution_count": null,
   "id": "1c4656b7",
   "metadata": {},
   "outputs": [],
   "source": [
    "import pandas as pd\n",
    "import matplotlib.pyplot as plt\n",
    "\n",
    "# read data.csv and save as dataframe\n",
    "data = pd.read_csv(\"./data.csv\")\n",
    "# graph whose x-axis represents data.x, y-axis represents data.y\n",
    "plt.plot(data.x, data.y)\n",
    "# show the graph on the monitor\n",
    "plt.show()"
   ]
  },
  {
   "cell_type": "markdown",
   "id": "79246bd4",
   "metadata": {},
   "source": [
    "3번 문제"
   ]
  },
  {
   "cell_type": "code",
   "execution_count": null,
   "id": "a8b303bf",
   "metadata": {},
   "outputs": [],
   "source": [
    "# Cosine function\n",
    "def Cosine():\n",
    "    # get three inputs\n",
    "    a = int(input())\n",
    "    b = int(input())\n",
    "    c = int(input())\n",
    "\n",
    "    # Triangular Determination Criteria\n",
    "    if a+b>c and a+c>b and b+c>a:\n",
    "        # this is the formula that get cosine(A)\n",
    "        res = (pow(b, 2) + pow(c, 2) - pow(a, 2)) / (2 * b * c)\n",
    "        print(res)\n",
    "    else:\n",
    "        print(\"NO\")\n",
    "\n",
    "\n",
    "if __name__ == \"__main__\":\n",
    "    # call Cosine function\n",
    "    Cosine()"
   ]
  },
  {
   "cell_type": "markdown",
   "id": "a089ef91",
   "metadata": {},
   "source": [
    "4번 문제"
   ]
  },
  {
   "cell_type": "code",
   "execution_count": null,
   "id": "9ca1669b",
   "metadata": {},
   "outputs": [],
   "source": [
    "import math\n",
    "\n",
    "# get two input, point_a and point_p\n",
    "# this function calculate the distance between two point a and p\n",
    "# return the value of distance whose type is float\n",
    "def get_point_distance(point_a: tuple, point_p: tuple) -> float:\n",
    "    x1, y1 = point_a[0], point_a[1]\n",
    "    x2, y2 = point_p[0], point_p[1]\n",
    "    # formula to get the distance between two points\n",
    "    dist = math.sqrt(pow((x1 - x2), 2) + pow((y1 - y2), 2))\n",
    "    return dist\n",
    "\n",
    "# get three input, point_a, point_p1, and point_p2\n",
    "# this function calculate the distance between point_a and the straight line\n",
    "# the straight line contains two points, p1 and p2\n",
    "# return the value of distance whose type is float\n",
    "def get_line_distance(point_a: tuple, point_p1: tuple, point_p2: tuple) -> float:\n",
    "    x1, y1 = point_a[0], point_a[1]\n",
    "    x2, y2, x3, y3 = point_p1[0], point_p1[1], point_p2[0], point_p2[1]\n",
    "    # if x3 == x2, we can't use the formula, because x3-x2 should be divider\n",
    "    # In this case, straight line is x = x3 (or x = x2)\n",
    "    # so distance is |x3 - x1| (or |x2 - x1|)\n",
    "    if x3 == x2:\n",
    "        dist = abs(x3 - x1)\n",
    "    # I'll let the straight line y = mx + c\n",
    "    else:\n",
    "        # m: the straight line's gradient\n",
    "        m = abs((y3-y2)/(x3-x2))\n",
    "        # y = mx + c => y2 = mx2 + c => c = y2 - mx2\n",
    "        c = -m * x2 + y2\n",
    "        # this is the formula to get the distance between the point and straight line\n",
    "        dist = abs(m * x1 - 1 * y1 + c) / math.sqrt(pow(m, 2) + pow(-1, 2))\n",
    "    return dist\n",
    "\n",
    "\n",
    "# get three input, point_a, point_p1, point_p2\n",
    "# this function check if the two point p1 and p2 is at the same side based on the straight line\n",
    "# who's gradient is orthogonal with the straight line who contains p1 and p2\n",
    "# and this line contains point_a\n",
    "# this is important because, if p1 and p2 are at the same side,\n",
    "# the shortest distance between a and the segment p1p2 (not the straight line)\n",
    "# is not the distance between a and the straight line\n",
    "def checker(point_a: tuple, point_p1: tuple, point_p2: tuple) -> bool:\n",
    "    x1, y1 = point_a[0], point_a[1]\n",
    "    x2, y2, x3, y3 = point_p1[0], point_p1[1], point_p2[0], point_p2[1]\n",
    "    # m is the gradient of the straight line l who's gradient is orthogonal\n",
    "    # with the straight line who contains p1,p2 and contains point_a\n",
    "\n",
    "    # if x3 == x2, y = y1 might be l\n",
    "    if x3 == x2:\n",
    "        m = 0\n",
    "    # if y3 == y2, x = x1 might be l\n",
    "    # so l's gradient can be approximated as math.inf\n",
    "    elif y3 == y2:\n",
    "        m = math.inf\n",
    "    # formula\n",
    "    else:\n",
    "        m = -1 / abs((y3 - y2) / (x3 - x2))\n",
    "\n",
    "    c = -m * x1 + y1\n",
    "    # this comes from\n",
    "    # dist = abs(『m * x1 - 1 * y1 + c』) / math.sqrt(pow(m, 2) + pow(-1, 2))\n",
    "    d1 = m * x2 - 1 * y2 + c\n",
    "    d2 = m * x3 - 1 * y3 + c\n",
    "\n",
    "    # if d1 and d2 have same sign, it means two points are at the same side\n",
    "    # so this case return False\n",
    "    if d1*d2>0:\n",
    "        return False\n",
    "    # two points are at the other side\n",
    "    # so this case return True\n",
    "    else:\n",
    "        return True\n",
    "\n",
    "\n",
    "if __name__ == \"__main__\":\n",
    "    # res will contain the distances between A and other points,\n",
    "    # and A and segments\n",
    "    res = list()\n",
    "\n",
    "    x_A, y_A = map(float, input().split())\n",
    "    x_C1, y_C1 = map(float, input().split())\n",
    "    x_C2, y_C2 = map(float, input().split())\n",
    "    x_C3, y_C3 = map(float, input().split())\n",
    "    x_C4, y_C4 = map(float, input().split())\n",
    "\n",
    "    # save values as tuple (like point's coordinate values)\n",
    "    A = (x_A, y_A)\n",
    "    points = [(x_C1, y_C1), (x_C2, y_C2), (x_C3, y_C3), (x_C4, y_C4)]\n",
    "\n",
    "    # append distances at res list\n",
    "    for i in range(len(points)):\n",
    "        res.append(get_point_distance(A, points[i]))\n",
    "        # if i == 3, it will call points[4] which not exists\n",
    "        # call checker to check\n",
    "        if i != 3 and checker(A, points[i], points[i+1]):\n",
    "            res.append(get_line_distance(A, points[i], points[i+1]))\n",
    "\n",
    "    # print with formatting\n",
    "    if min(res) % 1 == 0:\n",
    "        print(int(min(res)))\n",
    "    else:\n",
    "        print('%.2f' % min(res))"
   ]
  },
  {
   "cell_type": "markdown",
   "id": "4f693601",
   "metadata": {},
   "source": [
    "5번 문제"
   ]
  },
  {
   "cell_type": "code",
   "execution_count": null,
   "id": "3d796ada",
   "metadata": {},
   "outputs": [],
   "source": [
    "# get input. Don't cast to int because we'll use string indexing\n",
    "N = input()\n",
    "# default value is True\n",
    "res = True\n",
    "\n",
    "for i in range(len(N)//2):\n",
    "    # check if it is palindrome\n",
    "    if N[i] != N[len(N) - (i+1)]:\n",
    "        # if not, result is False\n",
    "        res = False\n",
    "\n",
    "# print the result\n",
    "print(res)"
   ]
  }
 ],
 "metadata": {
  "kernelspec": {
   "display_name": "CAU_DSLAB",
   "language": "python",
   "name": "cau_dslab"
  },
  "language_info": {
   "codemirror_mode": {
    "name": "ipython",
    "version": 3
   },
   "file_extension": ".py",
   "mimetype": "text/x-python",
   "name": "python",
   "nbconvert_exporter": "python",
   "pygments_lexer": "ipython3",
   "version": "3.9.15"
  }
 },
 "nbformat": 4,
 "nbformat_minor": 5
}
